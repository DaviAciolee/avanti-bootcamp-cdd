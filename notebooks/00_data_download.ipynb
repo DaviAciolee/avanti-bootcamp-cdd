{
 "cells": [
  {
   "cell_type": "code",
   "execution_count": 2,
   "id": "04bcf49b-b482-4c6e-ba59-a80a4c8895e4",
   "metadata": {
    "tags": []
   },
   "outputs": [],
   "source": [
    "import pandas as pd"
   ]
  },
  {
   "cell_type": "code",
   "execution_count": 6,
   "id": "eed1b6dd-6feb-4b1a-8c22-895680313f0f",
   "metadata": {
    "tags": []
   },
   "outputs": [],
   "source": [
    "# lê o dataset\n",
    "df = pd.read_csv('https://raw.githubusercontent.com/atlantico-academy/datasets/refs/heads/main/tips.csv')\n",
    "# Salva o conjunto de dados na pasta raw\n",
    "df = df.to_csv('../data/raw/data.csv', index=False)"
   ]
  },
  {
   "cell_type": "code",
   "execution_count": 7,
   "id": "84e82376-163f-445a-8ceb-d99951c9648e",
   "metadata": {
    "tags": []
   },
   "outputs": [],
   "source": [
    "# Criar dicionário de dados\n",
    "data_dictionary = pd.DataFrame([\n",
    "    {\n",
    "        'variavel': 'total_bill',\n",
    "        'descricao': 'Valor da conta em dólar',\n",
    "        'tipo': 'quantitativa',\n",
    "        'subtipo': 'continua' ,\n",
    "    },\n",
    "    {\n",
    "        'variavel': 'tip',\n",
    "        'descricao': 'Valor da gorjeta em dolár',\n",
    "        'tipo': 'quantitativa',\n",
    "        'subtipo': 'continua'\n",
    "    },\n",
    "    {\n",
    "        'variavel': 'sex',\n",
    "        'descricao': 'Sexo do pagador da conta',\n",
    "        'tipo': 'qualitativa',\n",
    "        'subtipo': 'nominal'\n",
    "    },\n",
    "    {\n",
    "        'variavel': 'smoker',\n",
    "        'descricao': 'Fumante na festa',\n",
    "        'tipo': 'qualitativa',\n",
    "        'subtipo': 'nominal'\n",
    "    },\n",
    "    {\n",
    "        'variavel': 'day',\n",
    "        'descricao': 'Dia da semana',\n",
    "        'tipo': 'qualitativa',\n",
    "        'subtipo': 'nominal'\n",
    "    },\n",
    "    {\n",
    "        'variavel': 'time',\n",
    "        'descricao': 'Horário do dia',\n",
    "        'tipo': 'qualitativa',\n",
    "        'subtipo': 'nominal'\n",
    "    },\n",
    "    {\n",
    "        'variavel': 'size',\n",
    "        'descricao': 'Tamanho da mesa',\n",
    "        'tipo': 'quantitativa',\n",
    "        'subtipo': 'discreta'\n",
    "    }\n",
    "])\n",
    "\n",
    "# Salva dicionário de dados\n",
    "data_dictionary.to_csv(\"../data/external/dictionary.csv\", index=False)"
   ]
  },
  {
   "cell_type": "code",
   "execution_count": 8,
   "id": "655e772a-9ddb-458b-bc49-191b2f19bebc",
   "metadata": {
    "tags": []
   },
   "outputs": [
    {
     "data": {
      "text/html": [
       "<div>\n",
       "<style scoped>\n",
       "    .dataframe tbody tr th:only-of-type {\n",
       "        vertical-align: middle;\n",
       "    }\n",
       "\n",
       "    .dataframe tbody tr th {\n",
       "        vertical-align: top;\n",
       "    }\n",
       "\n",
       "    .dataframe thead th {\n",
       "        text-align: right;\n",
       "    }\n",
       "</style>\n",
       "<table border=\"1\" class=\"dataframe\">\n",
       "  <thead>\n",
       "    <tr style=\"text-align: right;\">\n",
       "      <th></th>\n",
       "      <th>variavel</th>\n",
       "      <th>descricao</th>\n",
       "      <th>tipo</th>\n",
       "      <th>subtipo</th>\n",
       "    </tr>\n",
       "  </thead>\n",
       "  <tbody>\n",
       "    <tr>\n",
       "      <th>0</th>\n",
       "      <td>total_bill</td>\n",
       "      <td>Valor da conta em dólar</td>\n",
       "      <td>quantitativa</td>\n",
       "      <td>continua</td>\n",
       "    </tr>\n",
       "    <tr>\n",
       "      <th>1</th>\n",
       "      <td>tip</td>\n",
       "      <td>Valor da gorjeta em dolár</td>\n",
       "      <td>quantitativa</td>\n",
       "      <td>continua</td>\n",
       "    </tr>\n",
       "    <tr>\n",
       "      <th>2</th>\n",
       "      <td>sex</td>\n",
       "      <td>Sexo do pagador da conta</td>\n",
       "      <td>qualitativa</td>\n",
       "      <td>nominal</td>\n",
       "    </tr>\n",
       "    <tr>\n",
       "      <th>3</th>\n",
       "      <td>smoker</td>\n",
       "      <td>Fumante na festa</td>\n",
       "      <td>qualitativa</td>\n",
       "      <td>nominal</td>\n",
       "    </tr>\n",
       "    <tr>\n",
       "      <th>4</th>\n",
       "      <td>day</td>\n",
       "      <td>Dia da semana</td>\n",
       "      <td>qualitativa</td>\n",
       "      <td>nominal</td>\n",
       "    </tr>\n",
       "    <tr>\n",
       "      <th>5</th>\n",
       "      <td>time</td>\n",
       "      <td>Horário do dia</td>\n",
       "      <td>qualitativa</td>\n",
       "      <td>nominal</td>\n",
       "    </tr>\n",
       "    <tr>\n",
       "      <th>6</th>\n",
       "      <td>size</td>\n",
       "      <td>Tamanho da mesa</td>\n",
       "      <td>quantitativa</td>\n",
       "      <td>discreta</td>\n",
       "    </tr>\n",
       "  </tbody>\n",
       "</table>\n",
       "</div>"
      ],
      "text/plain": [
       "     variavel                  descricao          tipo   subtipo\n",
       "0  total_bill    Valor da conta em dólar  quantitativa  continua\n",
       "1         tip  Valor da gorjeta em dolár  quantitativa  continua\n",
       "2         sex   Sexo do pagador da conta   qualitativa   nominal\n",
       "3      smoker           Fumante na festa   qualitativa   nominal\n",
       "4         day              Dia da semana   qualitativa   nominal\n",
       "5        time             Horário do dia   qualitativa   nominal\n",
       "6        size            Tamanho da mesa  quantitativa  discreta"
      ]
     },
     "execution_count": 8,
     "metadata": {},
     "output_type": "execute_result"
    }
   ],
   "source": [
    "data_dictionary"
   ]
  },
  {
   "cell_type": "code",
   "execution_count": null,
   "id": "3f4e10c6-84e7-428d-8ffb-dc6bba4aa6fd",
   "metadata": {},
   "outputs": [],
   "source": []
  }
 ],
 "metadata": {
  "kernelspec": {
   "display_name": "Python 3 (ipykernel)",
   "language": "python",
   "name": "python3"
  },
  "language_info": {
   "codemirror_mode": {
    "name": "ipython",
    "version": 3
   },
   "file_extension": ".py",
   "mimetype": "text/x-python",
   "name": "python",
   "nbconvert_exporter": "python",
   "pygments_lexer": "ipython3",
   "version": "3.10.11"
  }
 },
 "nbformat": 4,
 "nbformat_minor": 5
}
